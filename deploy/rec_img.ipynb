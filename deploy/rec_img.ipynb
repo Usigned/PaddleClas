{
 "cells": [
  {
   "cell_type": "code",
   "execution_count": 1,
   "metadata": {},
   "outputs": [
    {
     "data": {
      "text/plain": [
       "CPUPlace"
      ]
     },
     "execution_count": 1,
     "metadata": {},
     "output_type": "execute_result"
    }
   ],
   "source": [
    "import paddle\n",
    "paddle.set_device('cpu')"
   ]
  },
  {
   "cell_type": "markdown",
   "metadata": {},
   "source": [
    "# steps\n",
    "1. load model\n",
    "2. load preprocess_ops\n",
    "3. extract_feat\n",
    "4. load Gallery\n",
    "5. vec search"
   ]
  },
  {
   "cell_type": "code",
   "execution_count": 2,
   "metadata": {},
   "outputs": [],
   "source": [
    "from python.preprocess import create_operators\n",
    "from python.postprocess import build_postprocess\n",
    "from utils.predictor import Predictor\n",
    "from utils.get_image_list import get_image_list\n",
    "from utils import config\n",
    "import numpy as np\n",
    "import cv2\n",
    "import os\n",
    "# from torch.utils.data import Dataset, DataLoader"
   ]
  },
  {
   "cell_type": "code",
   "execution_count": 3,
   "metadata": {},
   "outputs": [],
   "source": [
    "class RecPredictor(Predictor):\n",
    "    def __init__(self, config):\n",
    "        super().__init__(config[\"Global\"],\n",
    "                         config[\"Global\"][\"rec_inference_model_dir\"])\n",
    "        self.preprocess_ops = create_operators(config[\"RecPreProcess\"][\n",
    "            \"transform_ops\"])\n",
    "        self.postprocess = build_postprocess(config[\"RecPostProcess\"])\n",
    "        self.benchmark = config[\"Global\"].get(\"benchmark\", False)\n",
    "    \n",
    "    def predict(self, images, feat_norm=True):\n",
    "        input_names = self.predictor.get_input_names()\n",
    "        input_tensor = self.predictor.get_input_handle(input_names[0])\n",
    "\n",
    "        output_names = self.predictor.get_output_names()\n",
    "        output_tensor = self.predictor.get_output_handle(output_names[0])\n",
    "        \n",
    "        if not isinstance(images, (list, )):\n",
    "            images = [images]\n",
    "        \n",
    "        for idx in range(len(images)):\n",
    "            for ops in self.preprocess_ops:\n",
    "                images[idx] = ops(images[idx])\n",
    "        image = np.array(images)\n",
    "        input_tensor.copy_from_cpu(image)\n",
    "        self.predictor.run()\n",
    "        batch_output = output_tensor.copy_to_cpu()\n",
    "        \n",
    "        if feat_norm:\n",
    "            feas_norm = np.sqrt(\n",
    "                np.sum(np.square(batch_output), axis=1, keepdims=True))\n",
    "            batch_output = np.divide(batch_output, feas_norm)\n",
    "            \n",
    "        \n",
    "        if self.postprocess is not None:\n",
    "            batch_output = self.postprocess(batch_output)\n",
    "            \n",
    "        return batch_output"
   ]
  },
  {
   "cell_type": "code",
   "execution_count": 4,
   "metadata": {},
   "outputs": [],
   "source": [
    "fname = '/home/cloud623b/student/lzq/PaddleClas/deploy/configs/xmg_test.yaml'\n",
    "config = config.get_config(fname, show=False)\n",
    "rec_predictor = RecPredictor(config)"
   ]
  },
  {
   "cell_type": "code",
   "execution_count": 5,
   "metadata": {},
   "outputs": [],
   "source": [
    "def read_imgs(image_list):\n",
    "    imgs = []\n",
    "    names = []\n",
    "    \n",
    "    for img_path in image_list:\n",
    "        img = cv2.imread(img_path) # image (H, W, C-BGR)\n",
    "\n",
    "        img = img[:, :, ::-1] # bgr2rgb\n",
    "        imgs.append(img)\n",
    "        img_name = os.path.basename(img_path)\n",
    "        names.append(img_name)\n",
    "    return imgs, names\n",
    "    "
   ]
  },
  {
   "cell_type": "code",
   "execution_count": 6,
   "metadata": {},
   "outputs": [
    {
     "name": "stderr",
     "output_type": "stream",
     "text": [
      "2022-04-04 20:13:47 INFO: Loading faiss with AVX2 support.\n",
      "2022-04-04 20:13:47 INFO: Could not load library with AVX2 support due to:\n",
      "ModuleNotFoundError(\"No module named 'faiss.swigfaiss_avx2'\")\n",
      "2022-04-04 20:13:47 INFO: Loading faiss.\n",
      "2022-04-04 20:13:47 INFO: Successfully loaded faiss.\n"
     ]
    }
   ],
   "source": [
    "import faiss\n",
    "import pickle\n",
    "idx_file = '/home/cloud623b/student/lzq/PaddleClas/deploy/xmg_dataset/index/vector.index'\n",
    "searcher = faiss.read_index(idx_file)\n",
    "id_map_path = '/home/cloud623b/student/lzq/PaddleClas/deploy/xmg_dataset/index/id_map.pkl'\n",
    "with open(id_map_path, 'rb') as fd:\n",
    "    id_map = pickle.load(fd)"
   ]
  },
  {
   "cell_type": "code",
   "execution_count": 8,
   "metadata": {},
   "outputs": [],
   "source": [
    "def inference_by_batch(imgs, predictor, batch_size=32):\n",
    "    cnt = 0\n",
    "    batch_imgs = []\n",
    "    res = []\n",
    "    for idx, img in enumerate(imgs):\n",
    "        batch_imgs.append(img)\n",
    "        cnt += 1\n",
    "        if cnt % batch_size == 0 or (idx + 1) == len(imgs):\n",
    "            if len(batch_imgs) == 0:\n",
    "                continue\n",
    "            batch_results = predictor.predict(batch_imgs)\n",
    "            res.append(batch_results)\n",
    "            batch_imgs = []\n",
    "    \n",
    "    return np.concatenate(res, axis=0)"
   ]
  },
  {
   "cell_type": "code",
   "execution_count": 13,
   "metadata": {},
   "outputs": [],
   "source": [
    "import pandas as pd\n",
    "id2name_dict = pd.read_csv('/home/cloud623b/student/lzq/PaddleClas/deploy/xmg_dataset/item2id.csv')['物品名称']"
   ]
  },
  {
   "cell_type": "code",
   "execution_count": 18,
   "metadata": {},
   "outputs": [],
   "source": [
    "def test_all_dir(idxs, id2name_dict, base_dir):\n",
    "    precision_dict = {}\n",
    "    for idx in idxs:\n",
    "        name = id2name_dict[idx]\n",
    "        path = os.path.join(base_dir, str(idx))\n",
    "        image_list = get_image_list(path)\n",
    "        imgs, names = read_imgs(image_list)\n",
    "        \n",
    "        rec_results = rec_predictor.predict(imgs)\n",
    "        return_k = 5\n",
    "        scores, docs = searcher.search(rec_results, return_k)\n",
    "        \n",
    "        cnt = 0\n",
    "        for doc in docs:\n",
    "            if id_map[doc[0]].endswith(name):\n",
    "                cnt += 1\n",
    "        \n",
    "        precision_dict[idx] = cnt / len(image_list)\n",
    "    return precision_dict\n",
    "    "
   ]
  },
  {
   "cell_type": "code",
   "execution_count": 20,
   "metadata": {},
   "outputs": [],
   "source": [
    "# image_list = get_image_list(config[\"Global\"][\"infer_imgs\"])\n",
    "base_dir = '/home/cloud623b/student/lzq/PaddleClas/deploy/xmg_dataset/test_set/'"
   ]
  },
  {
   "cell_type": "code",
   "execution_count": 21,
   "metadata": {},
   "outputs": [],
   "source": [
    "res = test_all_dir(range(1, 13), id2name_dict, base_dir)"
   ]
  },
  {
   "cell_type": "code",
   "execution_count": 22,
   "metadata": {},
   "outputs": [
    {
     "data": {
      "text/plain": [
       "{1: 0.21921182266009853,\n",
       " 2: 0.1271186440677966,\n",
       " 3: 0.833729216152019,\n",
       " 4: 0.4923547400611621,\n",
       " 5: 0.5864864864864865,\n",
       " 6: 0.2248995983935743,\n",
       " 7: 0.22337662337662337,\n",
       " 8: 0.24043715846994534,\n",
       " 9: 0.34798534798534797,\n",
       " 10: 0.21680216802168023,\n",
       " 11: 0.7139240506329114,\n",
       " 12: 0.011185682326621925}"
      ]
     },
     "execution_count": 22,
     "metadata": {},
     "output_type": "execute_result"
    }
   ],
   "source": [
    "res"
   ]
  },
  {
   "cell_type": "code",
   "execution_count": null,
   "metadata": {},
   "outputs": [],
   "source": [
    "from torch.utils.data.dataloader import DataLoader"
   ]
  }
 ],
 "metadata": {
  "interpreter": {
   "hash": "d10d655ec16e38e65b6ec31841bea0b30ce48c20f77e5a4d6ec613c5f354b21d"
  },
  "kernelspec": {
   "display_name": "Python 3.9.11 ('paddle')",
   "language": "python",
   "name": "python3"
  },
  "language_info": {
   "codemirror_mode": {
    "name": "ipython",
    "version": 3
   },
   "file_extension": ".py",
   "mimetype": "text/x-python",
   "name": "python",
   "nbconvert_exporter": "python",
   "pygments_lexer": "ipython3",
   "version": "3.9.11"
  },
  "orig_nbformat": 4
 },
 "nbformat": 4,
 "nbformat_minor": 2
}
